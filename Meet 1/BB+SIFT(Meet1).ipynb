{
 "cells": [
  {
   "cell_type": "code",
   "execution_count": 2,
   "id": "c25b8ddc-c331-4b21-8598-2c7fffecc05b",
   "metadata": {},
   "outputs": [],
   "source": [
    "import numpy as np\n",
    "import cv2"
   ]
  },
  {
   "cell_type": "code",
   "execution_count": 3,
   "id": "9aae7a47-b977-4bd3-919d-f871588786dd",
   "metadata": {},
   "outputs": [],
   "source": [
    "img1 = cv2.imread(\"image1.webp\")\n",
    "img2 = cv2.imread(\"image2.webp\")"
   ]
  },
  {
   "cell_type": "code",
   "execution_count": 5,
   "id": "e2d235b1-91ce-4371-a477-d75bbfc31971",
   "metadata": {},
   "outputs": [],
   "source": [
    "color = (255, 0, 0)\n",
    "\n",
    "start1 = (175, 450)\n",
    "end1 = (275, 600)\n",
    "\n",
    "start2 = (125, 450)\n",
    "end2 = (225, 600)"
   ]
  },
  {
   "cell_type": "code",
   "execution_count": 6,
   "id": "32cb8aae-2e5e-48b8-8611-2570f23f4be9",
   "metadata": {},
   "outputs": [],
   "source": [
    "cv2.rectangle(img1, start1, end1, color, 2);\n",
    "cv2.rectangle(img2, start2, end2, color, 2);"
   ]
  },
  {
   "cell_type": "code",
   "execution_count": 111,
   "id": "6f5a9c10-a29a-4a51-a7fd-134890e1af24",
   "metadata": {},
   "outputs": [],
   "source": [
    "rect1 = img1[start1[1] : end1[1], start1[0] : end1[0]]\n",
    "rect2 = img2[start2[1] : end2[1], start2[0] : end2[0]]\n",
    "\n",
    "rect1 = cv2.GaussianBlur(rect1, (5, 5), 0)\n",
    "rect2 = cv2.GaussianBlur(rect2, (5, 5), 0)"
   ]
  },
  {
   "cell_type": "code",
   "execution_count": 112,
   "id": "87e45a2e-a853-45ec-99e9-6af97a8a44f8",
   "metadata": {},
   "outputs": [],
   "source": [
    "sift = cv2.SIFT_create(contrastThreshold=0.04, edgeThreshold=10, sigma=1.6)"
   ]
  },
  {
   "cell_type": "code",
   "execution_count": 113,
   "id": "60ec10f1-d7de-43cc-be3e-c1a03db9ed01",
   "metadata": {},
   "outputs": [],
   "source": [
    "# Find Keypoints\n",
    "keypoints1, descriptors1 = sift.detectAndCompute(rect1, None)\n",
    "keypoints2, descriptors2 = sift.detectAndCompute(rect2, None)\n",
    "\n",
    "bf = cv2.BFMatcher(cv2.NORM_L2, crossCheck=False) # Brute force matcher\n",
    "matches = bf.knnMatch(descriptors1, descriptors2, k = 2) # Using knnMatch toi find k (=2) closest points \n",
    "# matches = sorted(matches, key=lambda x: x.distance)"
   ]
  },
  {
   "cell_type": "code",
   "execution_count": 114,
   "id": "6569fff3-1619-461e-8880-f753a3e7dceb",
   "metadata": {},
   "outputs": [],
   "source": [
    "# Implementing Lowe's ratio test\n",
    "good_matches = []\n",
    "for m, n in matches:\n",
    "    if m.distance < 0.75 * n.distance: # Take only if first ine is better than the second by 0.75 times\n",
    "        good_matches.append(m)"
   ]
  },
  {
   "cell_type": "code",
   "execution_count": 119,
   "id": "85296aa0-686f-48bd-8216-27190b392fe8",
   "metadata": {},
   "outputs": [],
   "source": [
    "# Extract points from good matches\n",
    "src_pts = np.float32([keypoints1[m.queryIdx].pt for m in good_matches]).reshape(-1, 1, 2)\n",
    "dst_pts = np.float32([keypoints2[m.trainIdx].pt for m in good_matches]).reshape(-1, 1, 2)\n",
    "\n",
    "# Compute the homography matrix using RANSAC\n",
    "H, mask = cv2.findHomography(src_pts, dst_pts, cv2.RANSAC, 100.0)\n",
    "\n",
    "# Mask is a list of inlier points (1) and outlier points (0)\n",
    "matches_mask = mask.ravel().tolist()"
   ]
  },
  {
   "cell_type": "code",
   "execution_count": 120,
   "id": "58c8d5b2-0481-4916-a840-1bb1ad2c926c",
   "metadata": {},
   "outputs": [],
   "source": [
    "matched_image = cv2.drawMatches(rect1, keypoints1, rect2, keypoints2, good_matches, None, singlePointColor=None, matchesMask = matches_mask, flags=cv2.DrawMatchesFlags_NOT_DRAW_SINGLE_POINTS)\n",
    "\n",
    "cv2.imshow(\"Final image\", matched_image)\n",
    "cv2.waitKey(0)\n",
    "cv2.destroyAllWindows()"
   ]
  }
 ],
 "metadata": {
  "kernelspec": {
   "display_name": "Python 3 (ipykernel)",
   "language": "python",
   "name": "python3"
  },
  "language_info": {
   "codemirror_mode": {
    "name": "ipython",
    "version": 3
   },
   "file_extension": ".py",
   "mimetype": "text/x-python",
   "name": "python",
   "nbconvert_exporter": "python",
   "pygments_lexer": "ipython3",
   "version": "3.8.10"
  }
 },
 "nbformat": 4,
 "nbformat_minor": 5
}
